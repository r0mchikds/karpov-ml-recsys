{
 "cells": [
  {
   "cell_type": "markdown",
   "metadata": {},
   "source": [
    "# Обучение и сохранение моделей (контрольная: TF-IDF, тестовая: BERT)\n",
    "\n",
    "**Цель ноутбука.**  \n",
    "Обучить две градиентные модели (CatBoostClassifier) на ранее подготовленных признаках:\n",
    "- **Контрольная**: TF-IDF -> PCA + календарные/OHE/MTE фичи  \n",
    "- **Тестовая**: BERT-эмбеддинги (PCA) + календарные/OHE/MTE фичи  \n",
    "\n",
    "Провести базовую оффлайн-оценку по **ROC-AUC** и сохранить веса в формате **`.cbm`** для последующей загрузки сервисом рекомендаций.\n",
    "\n",
    "**Входные данные:**\n",
    "- `X_train_tfidf.csv`, `y_train_tfidf.csv`, `X_test_tfidf.csv`, `y_test_tfidf.csv`\n",
    "- `X_train_bert.csv`,  `y_train_bert.csv`,  `X_test_bert.csv`,  `y_test_bert.csv`\n",
    "\n",
    "**Выходные данные / артефакты:**\n",
    "- `model_control`  (CatBoost, контроль)  \n",
    "- `model_test`     (CatBoost, тест)\n",
    "\n",
    "> Примечание: ROC-AUC — прокси-метрика. В проде целевой критерий — **HitRate@5**. Рост ROC-AUC не гарантирует рост HitRate@5 — дополнительно проверяется чекером LMS.\n"
   ]
  },
  {
   "cell_type": "code",
   "execution_count": null,
   "metadata": {},
   "outputs": [],
   "source": [
    "# Импорты для работы с данными и базовых визуализаций + настройки вывода\n",
    "import pandas as pd\n",
    "import numpy as np\n",
    "import matplotlib.pyplot as plt\n",
    "import seaborn as sns\n",
    "from tqdm import tqdm\n",
    "\n",
    "pd.set_option('display.max_rows', 80)"
   ]
  },
  {
   "cell_type": "code",
   "execution_count": null,
   "metadata": {},
   "outputs": [],
   "source": [
    "# Единый стиль графиков\n",
    "import matplotlib as mlp\n",
    "\n",
    "mlp.rcParams['lines.linewidth'] = 5\n",
    "\n",
    "mlp.rcParams['xtick.major.size'] = 20\n",
    "mlp.rcParams['xtick.major.width'] = 5\n",
    "mlp.rcParams['xtick.labelsize'] = 20\n",
    "mlp.rcParams['xtick.color'] = '#FF5533'\n",
    "\n",
    "mlp.rcParams['ytick.major.size'] = 20\n",
    "mlp.rcParams['ytick.major.width'] = 5\n",
    "mlp.rcParams['ytick.labelsize'] = 20\n",
    "mlp.rcParams['ytick.color'] = '#FF5533'\n",
    "\n",
    "mlp.rcParams['axes.labelsize'] = 20\n",
    "mlp.rcParams['axes.titlesize'] = 20\n",
    "mlp.rcParams['axes.titlecolor'] = '#00B050'\n",
    "mlp.rcParams['axes.labelcolor'] = '#00B050'"
   ]
  },
  {
   "cell_type": "code",
   "execution_count": 3,
   "metadata": {},
   "outputs": [],
   "source": [
    "# Загрузка данных для контрольной модели (TF-IDF)\n",
    "X_train_tfidf = pd.read_csv('X_train_tfidf.csv')\n",
    "y_train_tfidf = pd.read_csv('y_train_tfidf.csv')\n",
    "X_test_tfidf = pd.read_csv('X_test_tfidf.csv')\n",
    "y_test_tfidf = pd.read_csv('y_test_tfidf.csv')"
   ]
  },
  {
   "cell_type": "code",
   "execution_count": 4,
   "metadata": {},
   "outputs": [],
   "source": [
    "# Загрузка данных для тестовой модели (BERT)\n",
    "X_train_bert = pd.read_csv('X_train_bert.csv')\n",
    "y_train_bert = pd.read_csv('y_train_bert.csv')\n",
    "X_test_bert = pd.read_csv('X_test_bert.csv')\n",
    "y_test_bert = pd.read_csv('y_test_bert.csv')"
   ]
  },
  {
   "cell_type": "markdown",
   "metadata": {},
   "source": [
    "# Тренировка модели и оценка её качества"
   ]
  },
  {
   "cell_type": "code",
   "execution_count": null,
   "metadata": {},
   "outputs": [],
   "source": [
    "# Модель: CatBoostClassifier + метрика для оффлайн-валидации (ROC-AUC)\n",
    "from catboost import CatBoostClassifier\n",
    "from sklearn.metrics import roc_auc_score"
   ]
  },
  {
   "cell_type": "code",
   "execution_count": null,
   "metadata": {},
   "outputs": [],
   "source": [
    "# Обучение контрольной модели на TF-IDF фичах; сохраняем веса в формате .cbm\n",
    "model_control = CatBoostClassifier(\n",
    "    iterations=1000,\n",
    "    learning_rate=0.25,\n",
    "    depth=6,\n",
    "    subsample=0.8,\n",
    "    bootstrap_type=\"Poisson\",\n",
    "    l2_leaf_reg=3,\n",
    "    task_type=\"GPU\",\n",
    "    verbose=False\n",
    ")\n",
    "model_control.fit(X_train_tfidf, y_train_tfidf)\n",
    "model_control.save_model('model_control', format='cbm')"
   ]
  },
  {
   "cell_type": "code",
   "execution_count": null,
   "metadata": {},
   "outputs": [],
   "source": [
    "# Обучение тестовой модели на BERT фичах; сохраняем веса в формате .cbm\n",
    "model_test = CatBoostClassifier(\n",
    "    iterations=1000,\n",
    "    learning_rate=0.25,\n",
    "    depth=6,\n",
    "    subsample=0.8,\n",
    "    bootstrap_type=\"Poisson\",\n",
    "    l2_leaf_reg=3,\n",
    "    task_type=\"GPU\",\n",
    "    verbose=False\n",
    ")\n",
    "model_test.fit(X_train_bert, y_train_bert)\n",
    "model_test.save_model('model_test', format='cbm')"
   ]
  },
  {
   "cell_type": "code",
   "execution_count": null,
   "metadata": {},
   "outputs": [
    {
     "name": "stdout",
     "output_type": "stream",
     "text": [
      "Контрольная модель:\n",
      "Train ROC-AUC: 0.6896\n",
      "Test ROC-AUC:  0.6426\n"
     ]
    }
   ],
   "source": [
    "# Оценка качества контрольной модели (ROC-AUC на train/test)\n",
    "print(\"Контрольная модель:\")\n",
    "print(f\"Train ROC-AUC: {roc_auc_score(y_train_tfidf, model_control.predict_proba(X_train_tfidf)[:, 1]).round(4)}\")\n",
    "print(f\"Test ROC-AUC:  {roc_auc_score(y_test_tfidf, model_control.predict_proba(X_test_tfidf)[:, 1]).round(4)}\")"
   ]
  },
  {
   "cell_type": "code",
   "execution_count": null,
   "metadata": {},
   "outputs": [
    {
     "name": "stdout",
     "output_type": "stream",
     "text": [
      "Тестовая модель:\n",
      "Train ROC-AUC: 0.6957\n",
      "Test ROC-AUC:  0.6583\n"
     ]
    }
   ],
   "source": [
    "# Оценка качества тестовой модели (ROC-AUC на train/test)\n",
    "print(\"Тестовая модель:\")\n",
    "print(f\"Train ROC-AUC: {roc_auc_score(y_train_bert, model_test.predict_proba(X_train_bert)[:, 1]).round(4)}\")\n",
    "print(f\"Test ROC-AUC:  {roc_auc_score(y_test_bert, model_test.predict_proba(X_test_bert)[:, 1]).round(4)}\")"
   ]
  },
  {
   "cell_type": "code",
   "execution_count": null,
   "metadata": {},
   "outputs": [],
   "source": [
    "# Проверка корректности загрузки моделей\n",
    "from_file = CatBoostClassifier()\n",
    "from_file.load_model('model_control')\n",
    "assert (from_file.predict(X_train_tfidf) == model_control.predict(X_train_tfidf)).all()"
   ]
  },
  {
   "cell_type": "code",
   "execution_count": 11,
   "metadata": {},
   "outputs": [],
   "source": [
    "from_file_upd = CatBoostClassifier()\n",
    "from_file_upd.load_model('model_test')\n",
    "assert (from_file_upd.predict(X_train_bert) == model_test.predict(X_train_bert)).all()"
   ]
  },
  {
   "cell_type": "markdown",
   "metadata": {},
   "source": [
    "## Итоги обучения\n",
    "\n",
    "**Артефакты:**\n",
    "- `model_control` — CatBoostClassifier, ветка TF-IDF (сохранена в `.cbm`)\n",
    "- `model_test` — CatBoostClassifier, ветка BERT (сохранена в `.cbm`)\n",
    "\n",
    "**Быстрые оффлайн-результаты (ROC-AUC):**\n",
    "- Контрольная: Train ≈ 0.6896, Test ≈ 0.6426  \n",
    "- Тестовая:   Train ≈ 0.6957, Test ≈ 0.6583\n",
    "\n",
    "> Напоминание: для задачи рекомендаций в LMS целевая метрика — **HitRate@5**.  \n",
    "> Рост ROC-AUC не гарантирует рост HitRate@5, поэтому качество валидируется чекером.\n",
    "\n",
    "**Готовность к прод-интеграции:**\n",
    "- Формат сохранения `.cbm` совместим с загрузкой через `CatBoostClassifier().load_model(...)`.\n",
    "- В сервисе используем отдельные имена файлов **`model_control`** и **`model_test`** и функцию `get_model_path(...)` (под пути LMS).\n",
    "- Проверено: после загрузки модели предсказывают идентичнои.\n",
    "\n",
    "**Следующий шаг:** интеграция обеих моделей в FastAPI-сервис, A/B-разбиение пользователей (md5 + соль), логирование группы и возврат топ-5 рекомендаций.\n"
   ]
  }
 ],
 "metadata": {
  "kernelspec": {
   "display_name": "venv",
   "language": "python",
   "name": "python3"
  },
  "language_info": {
   "codemirror_mode": {
    "name": "ipython",
    "version": 3
   },
   "file_extension": ".py",
   "mimetype": "text/x-python",
   "name": "python",
   "nbconvert_exporter": "python",
   "pygments_lexer": "ipython3",
   "version": "3.8.5"
  }
 },
 "nbformat": 4,
 "nbformat_minor": 2
}
